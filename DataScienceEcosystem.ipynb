{
 "cells": [
  {
   "cell_type": "markdown",
   "id": "7bc48b0b-11f3-4d75-b8ae-0afc9ac59e7a",
   "metadata": {},
   "source": [
    "# Data Science Tools and Ecosystem"
   ]
  },
  {
   "cell_type": "markdown",
   "id": "1d47bcd3-3bc9-4312-8241-8e7be3649960",
   "metadata": {},
   "source": [
    "In this notebook, Data Science Tools and Ecosystem are summarized."
   ]
  },
  {
   "cell_type": "markdown",
   "id": "bfba776b-3a77-4a94-bf1e-7262777e74dc",
   "metadata": {},
   "source": [
    "**Objectives:**\n",
    "- Popular languages for Data Scientists\n",
    "- Commonly used libraries used by Data Scientists\n",
    "- Commonly operations in Jupyter notebook"
   ]
  },
  {
   "cell_type": "markdown",
   "id": "2e9b4a6c-1be1-4c5d-8cdd-ce1fac0a8cb0",
   "metadata": {},
   "source": [
    "Some of the popular languages that Data Scientists use are:\n",
    "- Python\n",
    "- R\n",
    "- SQL\n",
    "- Julia"
   ]
  },
  {
   "cell_type": "markdown",
   "id": "3c36c3aa-9907-43fa-9011-0f35fbe6532d",
   "metadata": {},
   "source": [
    "Some of the commonly used libraries used by Data Scientists include:\n",
    "1. Pandas\n",
    "2. NumPy\n",
    "3. Plotly\n",
    "4. SciPy\n",
    "5. Seaborn"
   ]
  },
  {
   "cell_type": "markdown",
   "id": "0b3c9e20-74a1-4a21-9648-a2cc3dff810c",
   "metadata": {},
   "source": [
    "|Data Science Tools|\n",
    "|:--------:|\n",
    "|Jupyter Notebook|\n",
    "|RStudio|\n",
    "|Apache Zeppelin|"
   ]
  },
  {
   "cell_type": "markdown",
   "id": "bd3b8035-b13c-4f4a-b428-538bde1e919c",
   "metadata": {},
   "source": [
    "### Below are a few examples of evaluating arithmetic expressions in Python.\n",
    "```\n",
    "a = 10\n",
    "b = 5\n",
    "print(a+b)\n",
    "print(a*b)\n",
    "print(a%b)\n",
    "```"
   ]
  },
  {
   "cell_type": "code",
   "execution_count": 1,
   "id": "572b3c9c-28f2-4b72-9160-edd20f0a37e4",
   "metadata": {},
   "outputs": [
    {
     "data": {
      "text/plain": [
       "17"
      ]
     },
     "execution_count": 1,
     "metadata": {},
     "output_type": "execute_result"
    }
   ],
   "source": [
    "# This a simple arithmetic expression to mutiply then add integers. \n",
    "(3*4)+5"
   ]
  },
  {
   "cell_type": "code",
   "execution_count": 2,
   "id": "271622ba-1b97-4fe0-8f28-737a4522b697",
   "metadata": {},
   "outputs": [
    {
     "data": {
      "text/plain": [
       "3.3333333333333335"
      ]
     },
     "execution_count": 2,
     "metadata": {},
     "output_type": "execute_result"
    }
   ],
   "source": [
    "# This will convert 200 minutes to hours by diving by 60.\n",
    "200/60"
   ]
  },
  {
   "cell_type": "markdown",
   "id": "4a5c8b6b-b1ab-4e60-a908-ee15b5f0acb0",
   "metadata": {},
   "source": [
    "## Author\n",
    "Song Zhao"
   ]
  }
 ],
 "metadata": {
  "kernelspec": {
   "display_name": "Python 3 (ipykernel)",
   "language": "python",
   "name": "python3"
  },
  "language_info": {
   "codemirror_mode": {
    "name": "ipython",
    "version": 3
   },
   "file_extension": ".py",
   "mimetype": "text/x-python",
   "name": "python",
   "nbconvert_exporter": "python",
   "pygments_lexer": "ipython3",
   "version": "3.11.7"
  }
 },
 "nbformat": 4,
 "nbformat_minor": 5
}
